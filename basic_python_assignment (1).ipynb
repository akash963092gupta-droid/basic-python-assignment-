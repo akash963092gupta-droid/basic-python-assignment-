{
  "nbformat": 4,
  "nbformat_minor": 0,
  "metadata": {
    "colab": {
      "provenance": []
    },
    "kernelspec": {
      "name": "python3",
      "display_name": "Python 3"
    },
    "language_info": {
      "name": "python"
    }
  },
  "cells": [
    {
      "cell_type": "markdown",
      "source": [
        "#1 what is python ,and why is it ppopular ?\n",
        "---> python is a very popular programming language\n",
        "      why-1 open source and free.\n",
        "          2 large and active community.\n",
        "          3 simple syntax.\n",
        "          4 extensive libraries."
      ],
      "metadata": {
        "id": "Cp6NLTdz1lA5"
      }
    },
    {
      "cell_type": "markdown",
      "source": [
        "#3 What are pre-defined keywords in Python?\n",
        "---> 1 and = a logical operator.\n",
        "     2 break = to break out of a loop.\n",
        "     3 continue = continue to the next iteration of a loop.\n",
        "     4 def = to define a function.\n",
        "     5 else= used in conditional statment.\n",
        "      ...ect."
      ],
      "metadata": {
        "id": "i3QiFw501lOY"
      }
    },
    {
      "cell_type": "markdown",
      "source": [
        "#5 What is mutability in Python?\n",
        "--->mutability = mutable object can be modified(changing ) after creation.\n"
      ],
      "metadata": {
        "id": "wMsVwsSI1lSP"
      }
    },
    {
      "cell_type": "markdown",
      "source": [
        "#6 Why are lists mutable, but tuples are immutable?\n",
        "--->list = list are ordered collection of items ,list can store any data type .\n",
        "  syntax\n",
        "      l=[1,2,3]\n",
        "tuple = tuple are ordered collaction of elements.\n",
        "  syntax\n",
        "     t= (1,2,3)"
      ],
      "metadata": {
        "id": "i1Zb_1r51lWB"
      }
    },
    {
      "cell_type": "markdown",
      "source": [
        "#8 What are logical operators in Python?\n",
        "---> logical operator = 1 And operator.\n",
        "                        2 Or operator.\n",
        "                        3 Not ooperator.\n",
        "                        "
      ],
      "metadata": {
        "id": "PtWf98S11lZi"
      }
    },
    {
      "cell_type": "markdown",
      "source": [
        "#12 How does the elif statement work?\n",
        "---> elif allow multiple conditions in a clean and readable.  "
      ],
      "metadata": {
        "id": "H2hhepOE1lcy"
      }
    },
    {
      "cell_type": "markdown",
      "source": [
        "#Practical Questions"
      ],
      "metadata": {
        "id": "lc7_QjqEFutb"
      }
    },
    {
      "cell_type": "markdown",
      "source": [
        "#1 Write a Python program to print \"Hello, World!\""
      ],
      "metadata": {
        "id": "M4MDoYymFu7S"
      }
    },
    {
      "cell_type": "code",
      "source": [
        "print(\"hello,world!\")"
      ],
      "metadata": {
        "colab": {
          "base_uri": "https://localhost:8080/"
        },
        "id": "eFbbf_VlFYvK",
        "outputId": "3225708f-aba5-4d18-d06c-aaeb287903f0"
      },
      "execution_count": null,
      "outputs": [
        {
          "output_type": "stream",
          "name": "stdout",
          "text": [
            "hello,world!\n"
          ]
        }
      ]
    },
    {
      "cell_type": "markdown",
      "source": [
        "#2 Write a Python program that displays your name and age?"
      ],
      "metadata": {
        "id": "9z1Z2rWaGjxs"
      }
    },
    {
      "cell_type": "code",
      "source": [
        "name =\"akash gupta\"\n",
        "age = 18\n",
        "print (f\"my name is {name} and i am {age} year old.\")"
      ],
      "metadata": {
        "colab": {
          "base_uri": "https://localhost:8080/"
        },
        "id": "LfZ5MkTyGkaz",
        "outputId": "5b623908-2bec-4359-9bf9-d8da20ceffcd"
      },
      "execution_count": null,
      "outputs": [
        {
          "output_type": "stream",
          "name": "stdout",
          "text": [
            "my name is akash gupta and i am 18 year old.\n"
          ]
        }
      ]
    },
    {
      "cell_type": "markdown",
      "source": [
        "#12 Write a for loop to print numbers from 1 to 10."
      ],
      "metadata": {
        "id": "zvmN-zbGHnhV"
      }
    },
    {
      "cell_type": "code",
      "source": [
        "for i in range (1,11):\n",
        "  print(i)"
      ],
      "metadata": {
        "colab": {
          "base_uri": "https://localhost:8080/"
        },
        "id": "654aYUE7Hnv7",
        "outputId": "7a352bbf-2860-41d8-e5ca-16dccc158c9b"
      },
      "execution_count": null,
      "outputs": [
        {
          "output_type": "stream",
          "name": "stdout",
          "text": [
            "1\n",
            "2\n",
            "3\n",
            "4\n",
            "5\n",
            "6\n",
            "7\n",
            "8\n",
            "9\n",
            "10\n"
          ]
        }
      ]
    }
  ]
}