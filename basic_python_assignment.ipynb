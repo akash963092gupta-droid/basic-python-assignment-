{
  "cells": [
    {
      "cell_type": "markdown",
      "metadata": {
        "id": "Cp6NLTdz1lA5"
      },
      "source": [
        "#1 what is python ,and why is it ppopular ?\n",
        "---> python is a very popular programming language\n",
        "      why-1 open source and free.\n",
        "          2 large and active community.\n",
        "          3 simple syntax.\n",
        "          4 extensive libraries."
      ]
    },
    {
      "cell_type": "markdown",
      "metadata": {
        "id": "i3QiFw501lOY"
      },
      "source": [
        "#3 What are pre-defined keywords in Python?\n",
        "---> 1 and = a logical operator.\n",
        "     2 break = to break out of a loop.\n",
        "     3 continue = continue to the next iteration of a loop.\n",
        "     4 def = to define a function.\n",
        "     5 else= used in conditional statment.\n",
        "      ...ect."
      ]
    },
    {
      "cell_type": "markdown",
      "metadata": {
        "id": "wMsVwsSI1lSP"
      },
      "source": [
        "#5 What is mutability in Python?\n",
        "--->mutability = mutable object can be modified(changing ) after creation.\n"
      ]
    },
    {
      "cell_type": "markdown",
      "metadata": {
        "id": "i1Zb_1r51lWB"
      },
      "source": [
        "#6 Why are lists mutable, but tuples are immutable?\n",
        "--->list = list are ordered collection of items ,list can store any data type .\n",
        "  syntax\n",
        "      l=[1,2,3]\n",
        "tuple = tuple are ordered collaction of elements.\n",
        "  syntax\n",
        "     t= (1,2,3)"
      ]
    },
    {
      "cell_type": "markdown",
      "metadata": {
        "id": "PtWf98S11lZi"
      },
      "source": [
        "#8 What are logical operators in Python?\n",
        "---> logical operator = 1 And operator.\n",
        "                        2 Or operator.\n",
        "                        3 Not ooperator.\n",
        "                        "
      ]
    },
    {
      "cell_type": "markdown",
      "metadata": {
        "id": "H2hhepOE1lcy"
      },
      "source": [
        "#12 How does the elif statement work?\n",
        "---> elif allow multiple conditions in a clean and readable.  "
      ]
    },
    {
      "cell_type": "markdown",
      "metadata": {
        "id": "lc7_QjqEFutb"
      },
      "source": [
        "#Practical Questions"
      ]
    },
    {
      "cell_type": "markdown",
      "metadata": {
        "id": "M4MDoYymFu7S"
      },
      "source": [
        "#1 Write a Python program to print \"Hello, World!\""
      ]
    },
    {
      "cell_type": "code",
      "execution_count": 1,
      "metadata": {
        "colab": {
          "base_uri": "https://localhost:8080/"
        },
        "id": "eFbbf_VlFYvK",
        "outputId": "3225708f-aba5-4d18-d06c-aaeb287903f0"
      },
      "outputs": [
        {
          "name": "stdout",
          "output_type": "stream",
          "text": [
            "hello,world!\n"
          ]
        }
      ],
      "source": [
        "print(\"hello,world!\")"
      ]
    },
    {
      "cell_type": "markdown",
      "metadata": {
        "id": "9z1Z2rWaGjxs"
      },
      "source": [
        "#2 Write a Python program that displays your name and age?"
      ]
    },
    {
      "cell_type": "code",
      "execution_count": 3,
      "metadata": {
        "colab": {
          "base_uri": "https://localhost:8080/"
        },
        "id": "LfZ5MkTyGkaz",
        "outputId": "5b623908-2bec-4359-9bf9-d8da20ceffcd"
      },
      "outputs": [
        {
          "name": "stdout",
          "output_type": "stream",
          "text": [
            "my name is akash gupta and i am 18 year old.\n"
          ]
        }
      ],
      "source": [
        "name =\"akash gupta\"\n",
        "age = 18\n",
        "print (f\"my name is {name} and i am {age} year old.\")"
      ]
    },
    {
      "cell_type": "markdown",
      "metadata": {
        "id": "zvmN-zbGHnhV"
      },
      "source": [
        "#12 Write a for loop to print numbers from 1 to 10."
      ]
    },
    {
      "cell_type": "code",
      "execution_count": 4,
      "metadata": {
        "colab": {
          "base_uri": "https://localhost:8080/"
        },
        "id": "654aYUE7Hnv7",
        "outputId": "7a352bbf-2860-41d8-e5ca-16dccc158c9b"
      },
      "outputs": [
        {
          "name": "stdout",
          "output_type": "stream",
          "text": [
            "1\n",
            "2\n",
            "3\n",
            "4\n",
            "5\n",
            "6\n",
            "7\n",
            "8\n",
            "9\n",
            "10\n"
          ]
        }
      ],
      "source": [
        "for i in range (1,11):\n",
        "  print(i)"
      ]
    },
    {
      "cell_type": "markdown",
      "metadata": {
        "id": "-BEwCleyHoXD"
      },
      "source": []
    },
    {
      "cell_type": "code",
      "execution_count": null,
      "metadata": {
        "id": "4AVBWqaSHoky"
      },
      "outputs": [],
      "source": []
    }
  ],
  "metadata": {
    "colab": {
      "provenance": []
    },
    "kernelspec": {
      "display_name": "Python 3",
      "name": "python3"
    },
    "language_info": {
      "name": "python"
    }
  },
  "nbformat": 4,
  "nbformat_minor": 0
}
